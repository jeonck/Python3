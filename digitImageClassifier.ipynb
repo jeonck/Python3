{
 "cells": [
  {
   "cell_type": "code",
   "execution_count": 24,
   "metadata": {},
   "outputs": [],
   "source": [
    "\n",
    "import numpy\n",
    "from keras.datasets import mnist\n",
    "from keras.models import Sequential\n",
    "from keras.layers import Dense\n",
    "from keras.layers import Dropout\n",
    "from keras.utils import np_utils"
   ]
  },
  {
   "cell_type": "code",
   "execution_count": 25,
   "metadata": {},
   "outputs": [],
   "source": [
    "# load data\n",
    "(X_train, y_train), (X_test, y_test) = mnist.load_data()"
   ]
  },
  {
   "cell_type": "code",
   "execution_count": 26,
   "metadata": {},
   "outputs": [
    {
     "data": {
      "image/png": "[encoded data removed]",
      "text/plain": [
       "<matplotlib.figure.Figure at 0x17d9f710>"
      ]
     },
     "metadata": {},
     "output_type": "display_data"
    }
   ],
   "source": [
    "import matplotlib.pyplot as plt\n",
    "\n",
    "plt.subplot(221)\n",
    "plt.imshow(X_train[0], cmap=plt.get_cmap('gray'))\n",
    "plt.subplot(222)\n",
    "plt.imshow(X_train[1], cmap=plt.get_cmap('gray'))\n",
    "plt.subplot(223)\n",
    "plt.imshow(X_train[2], cmap=plt.get_cmap('gray'))\n",
    "plt.subplot(224)\n",
    "plt.imshow(X_train[3], cmap=plt.get_cmap('gray'))\n",
    "# show the plot\n",
    "plt.show()"
   ]
  },
  {
   "cell_type": "code",
   "execution_count": 27,
   "metadata": {},
   "outputs": [
    {
     "data": {
      "text/plain": [
       "(60000, 28, 28)"
      ]
     },
     "execution_count": 27,
     "metadata": {},
     "output_type": "execute_result"
    }
   ],
   "source": [
    "X_train.shape"
   ]
  },
  {
   "cell_type": "code",
   "execution_count": 28,
   "metadata": {},
   "outputs": [
    {
     "name": "stdout",
     "output_type": "stream",
     "text": [
      "784\n"
     ]
    }
   ],
   "source": [
    "# flatten 28*28 images to a 784 vector for each image\n",
    "num_pixels = X_train.shape[1] * X_train.shape[2]\n",
    "X_train_cnv = X_train.reshape(X_train.shape[0], num_pixels).astype('float32')\n",
    "X_test_cnv = X_test.reshape(X_test.shape[0], num_pixels).astype('float32')\n",
    "print(num_pixels)"
   ]
  },
  {
   "cell_type": "code",
   "execution_count": 29,
   "metadata": {
    "collapsed": true
   },
   "outputs": [],
   "source": [
    "X_train_cnv = X_train_cnv / 255\n",
    "X_test_cnv = X_test_cnv / 255"
   ]
  },
  {
   "cell_type": "code",
   "execution_count": 30,
   "metadata": {},
   "outputs": [
    {
     "name": "stdout",
     "output_type": "stream",
     "text": [
      "[7 2 1 ..., 4 5 6]\n"
     ]
    }
   ],
   "source": [
    "print(y_test)"
   ]
  },
  {
   "cell_type": "code",
   "execution_count": 31,
   "metadata": {
    "collapsed": true
   },
   "outputs": [],
   "source": [
    "y_train = np_utils.to_categorical(y_train)\n",
    "y_test = np_utils.to_categorical(y_test)\n",
    "num_classes = y_test.shape[1]"
   ]
  },
  {
   "cell_type": "code",
   "execution_count": 32,
   "metadata": {},
   "outputs": [
    {
     "name": "stdout",
     "output_type": "stream",
     "text": [
      "[[ 0.  0.  0. ...,  1.  0.  0.]\n",
      " [ 0.  0.  1. ...,  0.  0.  0.]\n",
      " [ 0.  1.  0. ...,  0.  0.  0.]\n",
      " ..., \n",
      " [ 0.  0.  0. ...,  0.  0.  0.]\n",
      " [ 0.  0.  0. ...,  0.  0.  0.]\n",
      " [ 0.  0.  0. ...,  0.  0.  0.]]\n"
     ]
    }
   ],
   "source": [
    "print(y_test)"
   ]
  },
  {
   "cell_type": "code",
   "execution_count": 33,
   "metadata": {
    "collapsed": true
   },
   "outputs": [],
   "source": [
    "model = Sequential()\n",
    "model.add(Dense(num_pixels, input_dim=num_pixels, kernel_initializer='normal', activation='relu'))\n",
    "model.add(Dense(num_classes, kernel_initializer='normal', activation='softmax'))\n",
    "\n",
    "# 모델 컴파일\n",
    "model.compile(loss='categorical_crossentropy', optimizer='adam', metrics=['accuracy'])"
   ]
  },
  {
   "cell_type": "code",
   "execution_count": 34,
   "metadata": {},
   "outputs": [
    {
     "name": "stdout",
     "output_type": "stream",
     "text": [
      "Epoch 1/10\n",
      " - 9s - loss: 0.2768 - acc: 0.9205\n",
      "Epoch 2/10\n",
      " - 9s - loss: 0.1106 - acc: 0.9682\n",
      "Epoch 3/10\n",
      " - 9s - loss: 0.0715 - acc: 0.9793\n",
      "Epoch 4/10\n",
      " - 9s - loss: 0.0503 - acc: 0.9857\n",
      "Epoch 5/10\n",
      " - 9s - loss: 0.0358 - acc: 0.9900\n",
      "Epoch 6/10\n",
      " - 9s - loss: 0.0268 - acc: 0.9929\n",
      "Epoch 7/10\n",
      " - 9s - loss: 0.0205 - acc: 0.9948\n",
      "Epoch 8/10\n",
      " - 9s - loss: 0.0143 - acc: 0.9968\n",
      "Epoch 9/10\n",
      " - 9s - loss: 0.0110 - acc: 0.9976\n",
      "Epoch 10/10\n",
      " - 9s - loss: 0.0082 - acc: 0.9986\n",
      "Baseline Error: 1.82%\n"
     ]
    }
   ],
   "source": [
    "\n",
    "from keras.callbacks import TensorBoard\n",
    "tensorboard = TensorBoard(log_dir='c:/log', histogram_freq=0,\n",
    "                          write_graph=True, write_images=False)\n",
    "\n",
    "# 모델 학습\n",
    "model.fit(X_train_cnv,\n",
    "    y_train,\n",
    "    epochs=10,\n",
    "    batch_size=200,\n",
    "    verbose=2,\n",
    "    callbacks=[tensorboard]\n",
    ")\n",
    "\n",
    "# 모델 정확도 분석 (scikit-learn의 score에 해당)\n",
    "scores = model.evaluate(X_test_cnv, y_test, verbose=0)\n",
    "print(\"Baseline Error: %.2f%%\" % (100-scores[1]*100))"
   ]
  },
  {
   "cell_type": "code",
   "execution_count": 36,
   "metadata": {},
   "outputs": [
    {
     "name": "stdout",
     "output_type": "stream",
     "text": [
      "_________________________________________________________________\n",
      "Layer (type)                 Output Shape              Param #   \n",
      "=================================================================\n",
      "dense_3 (Dense)              (None, 784)               615440    \n",
      "_________________________________________________________________\n",
      "dense_4 (Dense)              (None, 10)                7850      \n",
      "=================================================================\n",
      "Total params: 623,290\n",
      "Trainable params: 623,290\n",
      "Non-trainable params: 0\n",
      "_________________________________________________________________\n"
     ]
    }
   ],
   "source": [
    "model.summary()"
   ]
  },
  {
   "cell_type": "code",
   "execution_count": 43,
   "metadata": {
    "collapsed": true
   },
   "outputs": [],
   "source": [
    "from PIL import Image, ImageFilter\n",
    "import PIL.ImageOps \n",
    "from numpy import array\n",
    "\n",
    "class ScaleUtils():\n",
    "    def __init__(self, p, h=28, w=28):\n",
    "        self.im = Image.open(p)\n",
    "        self.size = (h,w)\n",
    "    def toGrey(self):\n",
    "        self.im = self.im.convert(\"L\")\n",
    "        return self\n",
    "    def resize(self):\n",
    "        self.im = self.im.resize(self.size)\n",
    "        return self\n",
    "    def invert(self):\n",
    "        self.im = PIL.ImageOps.invert(self.im)\n",
    "        return self\n",
    "    def getArray(self):\n",
    "        return array(self.im)\n",
    "    def getImage(self):\n",
    "        return self.im\n",
    "    def run(self):\n",
    "        return self.toGrey().resize().getArray()\n",
    "    \n",
    "# this particular one requires invert\n",
    "ScaleUtils(\"c:/test_8_digit.png\").toGrey().resize().invert().getImage().save(\"output.jpg\", \"JPEG\")"
   ]
  },
  {
   "cell_type": "code",
   "execution_count": 38,
   "metadata": {},
   "outputs": [
    {
     "data": {
      "image/png": "[encoded data removed]",
      "text/plain": [
       "<matplotlib.figure.Figure at 0xf55a390>"
      ]
     },
     "metadata": {},
     "output_type": "display_data"
    },
    {
     "name": "stdout",
     "output_type": "stream",
     "text": [
      "1/1 [==============================] - 0s 26ms/step\n",
      "[0]\n"
     ]
    }
   ],
   "source": [
    "plt.imshow(X_train[1])\n",
    "plt.show()\n",
    "\n",
    "input = X_train_cnv[1]\n",
    "X = input.reshape(1,784)\n",
    "pr = model.predict_classes(X)\n",
    "print (pr)"
   ]
  },
  {
   "cell_type": "code",
   "execution_count": 44,
   "metadata": {},
   "outputs": [
    {
     "data": {
      "image/png": "[encoded data removed]",
      "text/plain": [
       "<matplotlib.figure.Figure at 0xee1f198>"
      ]
     },
     "metadata": {},
     "output_type": "display_data"
    },
    {
     "name": "stdout",
     "output_type": "stream",
     "text": [
      "1/1 [==============================] - 0s 2ms/step\n",
      "[8]\n"
     ]
    }
   ],
   "source": [
    "# 테스트 이미지가 output.jpg인 경우\n",
    "from scipy.misc import imread\n",
    "import matplotlib.pyplot as plt\n",
    "\n",
    "im = imread(\"output.jpg\")\n",
    "plt.imshow(im)\n",
    "plt.show()\n",
    "\n",
    "input = im\n",
    "X = input.reshape(1,784)\n",
    "pr = model.predict_classes(X)\n",
    "print (pr)"
   ]
  },
  {
   "cell_type": "code",
   "execution_count": null,
   "metadata": {
    "collapsed": true
   },
   "outputs": [],
   "source": []
  }
 ],
 "metadata": {
  "kernelspec": {
   "display_name": "Python 3",
   "language": "python",
   "name": "python3"
  },
  "language_info": {
   "codemirror_mode": {
    "name": "ipython",
    "version": 3
   },
   "file_extension": ".py",
   "mimetype": "text/x-python",
   "name": "python",
   "nbconvert_exporter": "python",
   "pygments_lexer": "ipython3",
   "version": "3.6.3"
  }
 },
 "nbformat": 4,
 "nbformat_minor": 2
}
